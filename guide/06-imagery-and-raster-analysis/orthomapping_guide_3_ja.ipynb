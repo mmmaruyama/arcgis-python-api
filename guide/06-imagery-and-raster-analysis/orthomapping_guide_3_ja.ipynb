{
 "cells": [
  {
   "cell_type": "markdown",
   "metadata": {},
   "source": [
    "# オルソマッピング ガイド (Part 3)"
   ]
  },
  {
   "cell_type": "markdown",
   "metadata": {
    "toc": true
   },
   "source": [
    "<h1>目次<span class=\"tocSkip\"></span></h1>\n",
    "<div class=\"toc\"><ul class=\"toc-item\"><li><span><a href=\"#Part-2-のおさらい\" data-toc-modified-id=\"Continued-from-Part-2-1\">Part 2 のおさらい</a></span></li><li><span><a href=\"#Step-4.-画像の管理\" data-toc-modified-id=\"Step-4.-Managing-imagery-2\">Step 4. 画像の管理</a></span><ul class=\"toc-item\"><li><span><a href=\"#4.1-画像コレクションの処理状況の取得・設定\" data-toc-modified-id=\"4.1-Get-or-set-image-collection-processing-status-2.1\">4.1 画像コレクションの処理状況の取得・設定</a></span></li><li><span><a href=\"#4.2-画像コレクションに画像を追加\" data-toc-modified-id=\"4.2-Add-images-to-image-collection-2.2\">4.2 画像コレクションに画像を追加</a></span></li><li><span><a href=\"#4.3-画像コレクションから画像を削除\" data-toc-modified-id=\"4.3-Delete-images-from-image-collection-2.3\">4.3 画像コレクションから画像を削除</a></span></li><li><span><a href=\"#4.4-画像コレクションのリセット\" data-toc-modified-id=\"4.4-Reset-image-collection-2.4\">4.4 画像コレクションのリセット</a></span></li><li><span><a href=\"#4.5-画像コレクションの削除\" data-toc-modified-id=\"4.5-Delete-image-collection-2.5\">4.5 画像コレクションの削除</a></span></li></ul></li><li><span><a href=\"#まとめ\" data-toc-modified-id=\"Conclusion-3\">まとめ</a></span></li><li><span><a href=\"#参考\" data-toc-modified-id=\"References-4\">参考</a></span></li></ul></div>"
   ]
  },
  {
   "cell_type": "markdown",
   "metadata": {},
   "source": [
    "## Part 2 のおさらい\n",
    "これまで、Part1 では、オルソマッピングの概念、オルソマッピングツールが動作するための環境設定、画像の整理方法、画像コレクション レイヤー アイテムの作成方法を紹介し、Part2 では、ブロック調整、コントロール ポイントの操作、シームラインやカラー コレクションの計算方法、オルソモザイク、DEM、植生指標の生成手順について紹介してきました。\n",
    "\n",
    "Part 3 では、処理した画像の扱い方について、画像コレクションへの画像の追加／削除、画像コレクションのリセット／削除の方法について説明します。\n",
    "\n",
    "まず、GISインスタンスに接続します。"
   ]
  },
  {
   "cell_type": "code",
   "execution_count": 1,
   "metadata": {},
   "outputs": [],
   "source": [
    "import arcgis\n",
    "from arcgis.gis import GIS\n",
    "\n",
    "portal_url = \"https://yourportal.domain.com/portal\"\n",
    "portal_username = \"your username\"\n",
    "portal_password = \"your password\"\n",
    "\n",
    "gis = GIS(url=portal_url, username=portal_username, password=portal_password)"
   ]
  },
  {
   "cell_type": "markdown",
   "metadata": {},
   "source": [
    "画像コレクション レイヤー アイテムは、Part1 で既に作成されていますので、ここでは、レイヤー アイテムの参照を再利用しましょう。"
   ]
  },
  {
   "cell_type": "code",
   "execution_count": 3,
   "metadata": {},
   "outputs": [
    {
     "data": {
      "text/plain": [
       "'https://yourportal.domain.com/server/rest/services/Hosted/omImageCollection/ImageServer'"
      ]
     },
     "execution_count": 3,
     "metadata": {},
     "output_type": "execute_result"
    }
   ],
   "source": [
    "image_collection_item = gis.content.search(\"omImageCollection\")[0]\n",
    "image_collection_item.url"
   ]
  },
  {
   "cell_type": "markdown",
   "metadata": {},
   "source": [
    "## Step 4. 画像の管理"
   ]
  },
  {
   "cell_type": "markdown",
   "metadata": {},
   "source": [
    "### 4.1 画像コレクションの処理状況の取得・設定"
   ]
  },
  {
   "cell_type": "markdown",
   "metadata": {},
   "source": [
    "[arcgis.raster.orthomapping.get_processing_states()](https://developers.arcgis.com/python/api-reference/arcgis.raster.orthomapping.html#get-processing-states) および [arcgis.raster.orthomapping.alter_processing_states()](https://developers.arcgis.com/python/api-reference/arcgis.raster.orthomapping.html#alter-processing-states) は、処理状態の照会と変更に使用します。処理状態は、通常画像収集時に実行されたオルソマッピング処理に基づいて設定されます。これは、その後のオルソマッピング ワークフローでデータがどのように扱われるかを決定するため重要なことです。"
   ]
  },
  {
   "cell_type": "code",
   "execution_count": 45,
   "metadata": {
    "scrolled": false
   },
   "outputs": [
    {
     "data": {
      "text/plain": [
       "{'blockadjustment': 'full',\n",
       " 'dem': {'match_mode': 'ETM',\n",
       "  'object_size': 15,\n",
       "  'ground_spacing': None,\n",
       "  'minimum_pairs': 8,\n",
       "  'minimum_adjustment_quality': 0.2,\n",
       "  'maximum_diff_gsd': 2,\n",
       "  'maximum_diff_OP': 8,\n",
       "  'interpolation_method': 'TRIANGULATION',\n",
       "  'smooth_method': 'GAUSS5X5',\n",
       "  'surface_type': 'DSM'},\n",
       " 'seamlines': {'computation_method': 'DISPARITY',\n",
       "  'blend_width': None,\n",
       "  'blend_type': 'BOTH',\n",
       "  'request_size': 1000,\n",
       "  'request_size_type': 'PIXELS',\n",
       "  'blend_width_units': 'PIXELS',\n",
       "  'min_region_size': 100,\n",
       "  'min_thinness_ratio': 0.05,\n",
       "  'max_sliver_size': 20},\n",
       " 'colorcorrection': {'balancing_method': 'DODGING',\n",
       "  'surface_type': 'SINGLE_COLOR'},\n",
       " 'adjust_index': 2,\n",
       " 'imagetype': 'UAV/UAS'}"
      ]
     },
     "execution_count": 45,
     "metadata": {},
     "output_type": "execute_result"
    }
   ],
   "source": [
    "from arcgis.raster.orthomapping import get_processing_states\n",
    "get_processing_states(image_collection=image_collection_item)"
   ]
  },
  {
   "cell_type": "code",
   "execution_count": 46,
   "metadata": {
    "scrolled": false
   },
   "outputs": [
    {
     "data": {
      "text/plain": [
       "{'orthomapping': {'blockadjustment': 'quick',\n",
       "  'dem': '',\n",
       "  'seamlines': {'computation_method': 'DISPARITY',\n",
       "   'blend_width': None,\n",
       "   'blend_type': 'BOTH',\n",
       "   'request_size': 1000,\n",
       "   'request_size_type': 'PIXELS',\n",
       "   'blend_width_units': 'PIXELS',\n",
       "   'min_region_size': 100,\n",
       "   'min_thinness_ratio': 0.05,\n",
       "   'max_sliver_size': 20},\n",
       "  'colorcorrection': {'balancing_method': 'DODGING',\n",
       "   'surface_type': 'SINGLE_COLOR'},\n",
       "  'adjust_index': 1,\n",
       "  'imagetype': 'UAV/UAS'}}"
      ]
     },
     "execution_count": 46,
     "metadata": {},
     "output_type": "execute_result"
    }
   ],
   "source": [
    "from arcgis.raster.orthomapping import alter_processing_states\n",
    "\n",
    "new_states ={'blockadjustment': 'quick',\n",
    "             'dem': '',\n",
    "             'seamlines':{'computation_method': 'DISPARITY',\n",
    "                          'blend_width': None,\n",
    "                          'blend_type': 'BOTH',\n",
    "                          'request_size': 1000,\n",
    "                          'request_size_type': 'PIXELS',\n",
    "                          'blend_width_units': 'PIXELS',\n",
    "                          'min_region_size': 100,\n",
    "                          'min_thinness_ratio': 0.05,\n",
    "                          'max_sliver_size': 20},\n",
    "             'colorcorrection': {'balancing_method': 'DODGING',\n",
    "                                 'surface_type': 'SINGLE_COLOR'},\n",
    "             'adjust_index': 1,\n",
    "             'imagetype': 'UAV/UAS'}\n",
    "\n",
    "alter_processing_states(image_collection=image_collection_item, new_states=new_states)"
   ]
  },
  {
   "cell_type": "markdown",
   "metadata": {},
   "source": [
    "### 4.2 画像コレクションに画像を追加"
   ]
  },
  {
   "cell_type": "markdown",
   "metadata": {},
   "source": [
    "[arcgis.raster.analytics.add_image()](https://developers.arcgis.com/python/api-reference/arcgis.raster.analytics.html#add-image) は、既存の画像コレクションに新しい画像を追加するのに役立ちます。これは、既存のシームライン、フットプリント、コントロール ポイントなど、他の画像に関連するものを変更するものではありません。"
   ]
  },
  {
   "cell_type": "code",
   "execution_count": 47,
   "metadata": {},
   "outputs": [],
   "source": [
    "from arcgis.raster.analytics import add_image"
   ]
  },
  {
   "cell_type": "code",
   "execution_count": 48,
   "metadata": {
    "scrolled": true
   },
   "outputs": [],
   "source": [
    "image_item = gis.content.search(\"YUN_0040.JPG\")[0]"
   ]
  },
  {
   "cell_type": "code",
   "execution_count": 49,
   "metadata": {},
   "outputs": [],
   "source": [
    "raster_type_params = {\n",
    "    \"gps\":[[\"YUN_0040.JPG\",34.006989,-117.09279,725.13]], \"isAltitudeFlightHeight\":\"False\",\n",
    "    \"cameraProperties\":{\"maker\":\"Yuneec\", \"model\":\"E90\", \"focallength\":8,\"columns\":5472, \"rows\":3648, \"pixelsize\":0.0024},\n",
    "    \"averagezdem\":{\n",
    "        \"url\":\"https://elevation3d.arcgis.com/arcgis/rest/services/WorldElevation3D/Terrain3D/ImageServer\"\n",
    "    }\n",
    "}"
   ]
  },
  {
   "cell_type": "code",
   "execution_count": 1,
   "metadata": {},
   "outputs": [
    {
     "data": {
      "text/plain": [
       "'https://yourportal.domain.com/server/rest/services/Hosted/omImageCollection/ImageServer'"
      ]
     },
     "execution_count": 1,
     "metadata": {},
     "output_type": "execute_result"
    }
   ],
   "source": [
    "add_image(image_collection=image_collection_item, input_rasters=[image_item], raster_type_name=\"UAV/UAS\", \n",
    "          raster_type_params=raster_type_params)"
   ]
  },
  {
   "cell_type": "markdown",
   "metadata": {},
   "source": [
    "### 4.3 画像コレクションから画像を削除"
   ]
  },
  {
   "cell_type": "markdown",
   "metadata": {},
   "source": [
    "[arcgis.raster.analytics.delete_image()](https://developers.arcgis.com/python/api-reference/arcgis.raster.analytics.html#delete-image) は、画像コレクションから既存の画像を削除するのに役立ちます。これは、既存のシームライン、フットプリント、コントロール ポイントなど、他の画像に関連するものを変更するものではありません。"
   ]
  },
  {
   "cell_type": "code",
   "execution_count": 51,
   "metadata": {},
   "outputs": [],
   "source": [
    "from arcgis.raster.analytics import delete_image"
   ]
  },
  {
   "cell_type": "code",
   "execution_count": 2,
   "metadata": {},
   "outputs": [
    {
     "data": {
      "text/plain": [
       "'https://yourportal.domain.com/server/rest/services/Hosted/omImageCollection/ImageServer'"
      ]
     },
     "execution_count": 2,
     "metadata": {},
     "output_type": "execute_result"
    }
   ],
   "source": [
    "delete_image(image_collection=image_collection_item, where=\"objectID=5\")"
   ]
  },
  {
   "cell_type": "markdown",
   "metadata": {},
   "source": [
    "### 4.4 画像コレクションのリセット"
   ]
  },
  {
   "cell_type": "markdown",
   "metadata": {},
   "source": [
    "[arcgis.raster.orthomapping.reset_image_collection()](https://developers.arcgis.com/python/api-reference/arcgis.raster.orthomapping.html#reset-image-collection) は、画像コレクションのイメージ レイヤー アイテムを元の状態にリセットするのに役立ちます。\n",
    "\n",
    "これは、画像に対してすでに計算されたブロック調整結果をリセットし、フットプリントを再構築し、シームラインをリセットし、色補正結果を削除します。\n",
    "\n",
    "以前のブロック調整で計算された既存のコントロール ポイント フィーチャクラス、飛行経路フィーチャクラス等は削除されません。\n",
    "\n",
    "また、調整済み画像コレクションから派生したプロダクトを削除することはありません。"
   ]
  },
  {
   "cell_type": "code",
   "execution_count": 53,
   "metadata": {},
   "outputs": [],
   "source": [
    "from arcgis.raster.orthomapping import reset_image_collection"
   ]
  },
  {
   "cell_type": "code",
   "execution_count": 54,
   "metadata": {
    "scrolled": true
   },
   "outputs": [
    {
     "data": {
      "text/plain": [
       "True"
      ]
     },
     "execution_count": 54,
     "metadata": {},
     "output_type": "execute_result"
    }
   ],
   "source": [
    "reset_image_collection(image_collection=image_collection_item)"
   ]
  },
  {
   "cell_type": "markdown",
   "metadata": {},
   "source": [
    "### 4.5 画像コレクションの削除"
   ]
  },
  {
   "cell_type": "markdown",
   "metadata": {},
   "source": [
    "[arcgis.raster.analytics.delete_image_collection()](https://developers.arcgis.com/python/api-reference/arcgis.raster.analytics.html#delete-image-collection) は、ArcGIS Enterprise から画像コレクションのイメージ レイヤー アイテムを削除するのに役立ちます。\n",
    "\n",
    "画像コレクションと一緒に保存されていない、その他の関連する結果や製品はすべて残ります。"
   ]
  },
  {
   "cell_type": "code",
   "execution_count": 55,
   "metadata": {},
   "outputs": [],
   "source": [
    "from arcgis.raster.analytics import delete_image_collection"
   ]
  },
  {
   "cell_type": "code",
   "execution_count": 56,
   "metadata": {},
   "outputs": [
    {
     "data": {
      "text/plain": [
       "True"
      ]
     },
     "execution_count": 56,
     "metadata": {},
     "output_type": "execute_result"
    }
   ],
   "source": [
    "delete_image_collection(image_collection=image_collection_item)"
   ]
  },
  {
   "cell_type": "markdown",
   "metadata": {},
   "source": [
    "## まとめ\n",
    "\n",
    "このガイドでは、画像の処理とオルソマッピングの生成において、4 つのステップを実行しました。\n",
    "\n",
    " - __Step 1. 準備__ では、複数の画像から画像コレクション レイヤー アイテムを作成する方法を紹介しました。\n",
    " - __Step 2. 調整__ では、ブロック調整、コントロール ポイントの操作、シームラインやカラー コレクションの計算方法を紹介しました。\n",
    " - __Step 3. 結果の取得__ では、オルソモザイク、DEM、植生指標をオルソマッピングツールで作成する手順について紹介しました。\n",
    " - __Step 4. 画像の管理__ では、画像コレクションの追加/削除、画像コレクションのリセット/削除を行う方法を紹介しました。\n",
    "\n",
    "DTM や DSM などのオルソマッピング製品や、航空デジタル画像などを使ったオルソモザイクを Python API で取得することで、標高データを使った様々な解析や、オルソモザイク地図を使った緊急対応、資源管理、不動産などのアプリケーションに利用することができます<a href='#参考'>[1]</a>。"
   ]
  },
  {
   "cell_type": "markdown",
   "metadata": {},
   "source": [
    "## 参考\n",
    "\n",
    "<a href=\"#Conclusion\">[1]</a> Lenhardt, Ortho Mapping in ArcGIS Pro Part III: Getting Results,https://www.esri.com/arcgis-blog/products/arcgis-pro/imagery/ortho-mapping-products-arcgis-pro/ [Online]"
   ]
  },
  {
   "cell_type": "code",
   "execution_count": null,
   "metadata": {},
   "outputs": [],
   "source": []
  }
 ],
 "metadata": {
  "kernelspec": {
   "display_name": "Python 3",
   "language": "python",
   "name": "python3"
  },
  "language_info": {
   "codemirror_mode": {
    "name": "ipython",
    "version": 3
   },
   "file_extension": ".py",
   "mimetype": "text/x-python",
   "name": "python",
   "nbconvert_exporter": "python",
   "pygments_lexer": "ipython3",
   "version": "3.7.11"
  },
  "toc": {
   "base_numbering": 1,
   "nav_menu": {},
   "number_sections": false,
   "sideBar": true,
   "skip_h1_title": true,
   "title_cell": "Table of Contents",
   "title_sidebar": "Contents",
   "toc_cell": true,
   "toc_position": {},
   "toc_section_display": true,
   "toc_window_display": false
  },
  "varInspector": {
   "cols": {
    "lenName": 16,
    "lenType": 16,
    "lenVar": 40
   },
   "kernels_config": {
    "python": {
     "delete_cmd_postfix": "",
     "delete_cmd_prefix": "del ",
     "library": "var_list.py",
     "varRefreshCmd": "print(var_dic_list())"
    },
    "r": {
     "delete_cmd_postfix": ") ",
     "delete_cmd_prefix": "rm(",
     "library": "var_list.r",
     "varRefreshCmd": "cat(var_dic_list()) "
    }
   },
   "types_to_exclude": [
    "module",
    "function",
    "builtin_function_or_method",
    "instance",
    "_Feature"
   ],
   "window_display": false
  }
 },
 "nbformat": 4,
 "nbformat_minor": 2
}
